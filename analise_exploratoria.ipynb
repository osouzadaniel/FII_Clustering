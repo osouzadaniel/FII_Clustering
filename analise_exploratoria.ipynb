{
 "cells": [
  {
   "cell_type": "markdown",
   "metadata": {},
   "source": [
    "# Análise de Dados de Fundos Imobiliários"
   ]
  },
  {
   "cell_type": "markdown",
   "metadata": {},
   "source": [
    "## Importando Bibliotecas"
   ]
  },
  {
   "cell_type": "code",
   "execution_count": 1,
   "metadata": {
    "ExecuteTime": {
     "end_time": "2021-07-30T16:38:10.443449Z",
     "start_time": "2021-07-30T16:38:08.904314Z"
    }
   },
   "outputs": [],
   "source": [
    "import pandas as pd\n",
    "import numpy as np\n",
    "\n",
    "import matplotlib.pyplot as plt\n",
    "import seaborn as sns\n",
    "\n",
    "%matplotlib inline\n",
    "plt.style.use('ggplot')\n",
    "sns.set(context='notebook', palette='dark', color_codes=True)\n",
    "\n",
    "from data_miner import DataFII"
   ]
  },
  {
   "cell_type": "markdown",
   "metadata": {},
   "source": [
    "## Explorando e Preparando os Dados\n",
    "Os dados aqui contidos foram obtidos no dia 29/07/2021 a partir dos seguintes sites:\n",
    " - Funds Explorer - www.fundsexplorer.com.br\n",
    " - Status Invest - www.statusinvest.com.br"
   ]
  },
  {
   "cell_type": "code",
   "execution_count": 2,
   "metadata": {
    "ExecuteTime": {
     "end_time": "2021-07-30T16:38:10.678831Z",
     "start_time": "2021-07-30T16:38:10.445443Z"
    }
   },
   "outputs": [
    {
     "name": "stdout",
     "output_type": "stream",
     "text": [
      "(357, 34)\n"
     ]
    },
    {
     "data": {
      "text/html": [
       "<div>\n",
       "<style scoped>\n",
       "    .dataframe tbody tr th:only-of-type {\n",
       "        vertical-align: middle;\n",
       "    }\n",
       "\n",
       "    .dataframe tbody tr th {\n",
       "        vertical-align: top;\n",
       "    }\n",
       "\n",
       "    .dataframe thead th {\n",
       "        text-align: right;\n",
       "    }\n",
       "</style>\n",
       "<table border=\"1\" class=\"dataframe\">\n",
       "  <thead>\n",
       "    <tr style=\"text-align: right;\">\n",
       "      <th></th>\n",
       "      <th>ticker</th>\n",
       "      <th>nome</th>\n",
       "      <th>tipo_gestao</th>\n",
       "      <th>setor</th>\n",
       "      <th>preço</th>\n",
       "      <th>dy</th>\n",
       "      <th>pct_caixa</th>\n",
       "      <th>num_cotistas</th>\n",
       "      <th>PL</th>\n",
       "      <th>PVPA</th>\n",
       "      <th>...</th>\n",
       "      <th>rent_periodo</th>\n",
       "      <th>rent_acc</th>\n",
       "      <th>VPA</th>\n",
       "      <th>dy_VPA</th>\n",
       "      <th>var_VPA</th>\n",
       "      <th>rent_VPA_periodo</th>\n",
       "      <th>rent_VPA_acc</th>\n",
       "      <th>vacancia_fisica</th>\n",
       "      <th>vacancia_financeira</th>\n",
       "      <th>qtd_ativos</th>\n",
       "    </tr>\n",
       "  </thead>\n",
       "  <tbody>\n",
       "    <tr>\n",
       "      <th>0</th>\n",
       "      <td>BRLA11</td>\n",
       "      <td>FUNDO DE INVESTIMENTO IMOBILIÁRIO BRL PROP II</td>\n",
       "      <td>Passiva</td>\n",
       "      <td>Híbrido</td>\n",
       "      <td>0.0</td>\n",
       "      <td>0.0000</td>\n",
       "      <td>0.7435</td>\n",
       "      <td>84.0</td>\n",
       "      <td>1.376312e+08</td>\n",
       "      <td>NaN</td>\n",
       "      <td>...</td>\n",
       "      <td>0.00</td>\n",
       "      <td>0.00</td>\n",
       "      <td>140.98</td>\n",
       "      <td>NaN</td>\n",
       "      <td>NaN</td>\n",
       "      <td>NaN</td>\n",
       "      <td>NaN</td>\n",
       "      <td>NaN</td>\n",
       "      <td>NaN</td>\n",
       "      <td>0.0</td>\n",
       "    </tr>\n",
       "    <tr>\n",
       "      <th>1</th>\n",
       "      <td>EGYR11</td>\n",
       "      <td>ENERGY RESORT FDO. INVEST. IMOB</td>\n",
       "      <td>Passiva</td>\n",
       "      <td>NaN</td>\n",
       "      <td>0.0</td>\n",
       "      <td>0.0000</td>\n",
       "      <td>0.0576</td>\n",
       "      <td>21.0</td>\n",
       "      <td>9.322396e+07</td>\n",
       "      <td>NaN</td>\n",
       "      <td>...</td>\n",
       "      <td>NaN</td>\n",
       "      <td>NaN</td>\n",
       "      <td>NaN</td>\n",
       "      <td>NaN</td>\n",
       "      <td>NaN</td>\n",
       "      <td>NaN</td>\n",
       "      <td>NaN</td>\n",
       "      <td>NaN</td>\n",
       "      <td>NaN</td>\n",
       "      <td>NaN</td>\n",
       "    </tr>\n",
       "    <tr>\n",
       "      <th>2</th>\n",
       "      <td>FINF11</td>\n",
       "      <td>Infra Real State</td>\n",
       "      <td>Ativa</td>\n",
       "      <td>NaN</td>\n",
       "      <td>0.0</td>\n",
       "      <td>0.0000</td>\n",
       "      <td>0.7986</td>\n",
       "      <td>4.0</td>\n",
       "      <td>8.364985e+07</td>\n",
       "      <td>NaN</td>\n",
       "      <td>...</td>\n",
       "      <td>NaN</td>\n",
       "      <td>NaN</td>\n",
       "      <td>NaN</td>\n",
       "      <td>NaN</td>\n",
       "      <td>NaN</td>\n",
       "      <td>NaN</td>\n",
       "      <td>NaN</td>\n",
       "      <td>NaN</td>\n",
       "      <td>NaN</td>\n",
       "      <td>NaN</td>\n",
       "    </tr>\n",
       "    <tr>\n",
       "      <th>3</th>\n",
       "      <td>FCAS11</td>\n",
       "      <td>Edifício Castelo</td>\n",
       "      <td>Passiva</td>\n",
       "      <td>NaN</td>\n",
       "      <td>0.0</td>\n",
       "      <td>0.0000</td>\n",
       "      <td>186.1664</td>\n",
       "      <td>2.0</td>\n",
       "      <td>8.068422e+07</td>\n",
       "      <td>NaN</td>\n",
       "      <td>...</td>\n",
       "      <td>NaN</td>\n",
       "      <td>NaN</td>\n",
       "      <td>NaN</td>\n",
       "      <td>NaN</td>\n",
       "      <td>NaN</td>\n",
       "      <td>NaN</td>\n",
       "      <td>NaN</td>\n",
       "      <td>NaN</td>\n",
       "      <td>NaN</td>\n",
       "      <td>NaN</td>\n",
       "    </tr>\n",
       "    <tr>\n",
       "      <th>4</th>\n",
       "      <td>SHPH11</td>\n",
       "      <td>Shopping Patio Higienopolis</td>\n",
       "      <td>Passiva</td>\n",
       "      <td>Shoppings</td>\n",
       "      <td>807.0</td>\n",
       "      <td>3.4885</td>\n",
       "      <td>0.4134</td>\n",
       "      <td>3105.0</td>\n",
       "      <td>5.013048e+08</td>\n",
       "      <td>0.9803</td>\n",
       "      <td>...</td>\n",
       "      <td>0.24</td>\n",
       "      <td>-0.33</td>\n",
       "      <td>823.23</td>\n",
       "      <td>NaN</td>\n",
       "      <td>NaN</td>\n",
       "      <td>NaN</td>\n",
       "      <td>NaN</td>\n",
       "      <td>13.3</td>\n",
       "      <td>NaN</td>\n",
       "      <td>1.0</td>\n",
       "    </tr>\n",
       "  </tbody>\n",
       "</table>\n",
       "<p>5 rows × 34 columns</p>\n",
       "</div>"
      ],
      "text/plain": [
       "   ticker                                           nome tipo_gestao  \\\n",
       "0  BRLA11  FUNDO DE INVESTIMENTO IMOBILIÁRIO BRL PROP II     Passiva   \n",
       "1  EGYR11                ENERGY RESORT FDO. INVEST. IMOB     Passiva   \n",
       "2  FINF11                               Infra Real State       Ativa   \n",
       "3  FCAS11                               Edifício Castelo     Passiva   \n",
       "4  SHPH11                    Shopping Patio Higienopolis     Passiva   \n",
       "\n",
       "       setor  preço      dy  pct_caixa  num_cotistas            PL    PVPA  \\\n",
       "0    Híbrido    0.0  0.0000     0.7435          84.0  1.376312e+08     NaN   \n",
       "1        NaN    0.0  0.0000     0.0576          21.0  9.322396e+07     NaN   \n",
       "2        NaN    0.0  0.0000     0.7986           4.0  8.364985e+07     NaN   \n",
       "3        NaN    0.0  0.0000   186.1664           2.0  8.068422e+07     NaN   \n",
       "4  Shoppings  807.0  3.4885     0.4134        3105.0  5.013048e+08  0.9803   \n",
       "\n",
       "   ...  rent_periodo  rent_acc     VPA  dy_VPA  var_VPA  rent_VPA_periodo  \\\n",
       "0  ...          0.00      0.00  140.98     NaN      NaN               NaN   \n",
       "1  ...           NaN       NaN     NaN     NaN      NaN               NaN   \n",
       "2  ...           NaN       NaN     NaN     NaN      NaN               NaN   \n",
       "3  ...           NaN       NaN     NaN     NaN      NaN               NaN   \n",
       "4  ...          0.24     -0.33  823.23     NaN      NaN               NaN   \n",
       "\n",
       "   rent_VPA_acc  vacancia_fisica  vacancia_financeira  qtd_ativos  \n",
       "0           NaN              NaN                  NaN         0.0  \n",
       "1           NaN              NaN                  NaN         NaN  \n",
       "2           NaN              NaN                  NaN         NaN  \n",
       "3           NaN              NaN                  NaN         NaN  \n",
       "4           NaN             13.3                  NaN         1.0  \n",
       "\n",
       "[5 rows x 34 columns]"
      ]
     },
     "execution_count": 2,
     "metadata": {},
     "output_type": "execute_result"
    }
   ],
   "source": [
    "# Obtem dados da pasta /data/\n",
    "df = DataFII().get_FII_data()\n",
    "print(df.shape)\n",
    "df.head()"
   ]
  },
  {
   "cell_type": "code",
   "execution_count": 3,
   "metadata": {
    "ExecuteTime": {
     "end_time": "2021-07-30T16:38:10.725695Z",
     "start_time": "2021-07-30T16:38:10.686798Z"
    }
   },
   "outputs": [
    {
     "name": "stdout",
     "output_type": "stream",
     "text": [
      "<class 'pandas.core.frame.DataFrame'>\n",
      "Int64Index: 357 entries, 0 to 356\n",
      "Data columns (total 34 columns):\n",
      " #   Column               Non-Null Count  Dtype  \n",
      "---  ------               --------------  -----  \n",
      " 0   ticker               357 non-null    object \n",
      " 1   nome                 356 non-null    object \n",
      " 2   tipo_gestao          356 non-null    object \n",
      " 3   setor                245 non-null    object \n",
      " 4   preço                356 non-null    float64\n",
      " 5   dy                   356 non-null    float64\n",
      " 6   pct_caixa            352 non-null    float64\n",
      " 7   num_cotistas         356 non-null    float64\n",
      " 8   PL                   356 non-null    float64\n",
      " 9   PVPA                 302 non-null    float64\n",
      " 10  liquidez_diaria_avg  284 non-null    float64\n",
      " 11  cagr_dividendo       120 non-null    float64\n",
      " 12  cagr_cota            113 non-null    float64\n",
      " 13  liquidez_diaria      238 non-null    float64\n",
      " 14  div_mes_brl          246 non-null    float64\n",
      " 15  dy_1m                233 non-null    float64\n",
      " 16  dy_3m_acc            233 non-null    float64\n",
      " 17  dy_6m_acc            233 non-null    float64\n",
      " 18  dy_12m_acc           233 non-null    float64\n",
      " 19  dy_3m_avg            233 non-null    float64\n",
      " 20  dy_6m_avg            233 non-null    float64\n",
      " 21  dy_12m_avg           233 non-null    float64\n",
      " 22  dy_ano               220 non-null    float64\n",
      " 23  var_preço            233 non-null    float64\n",
      " 24  rent_periodo         233 non-null    float64\n",
      " 25  rent_acc             233 non-null    float64\n",
      " 26  VPA                  246 non-null    float64\n",
      " 27  dy_VPA               9 non-null      float64\n",
      " 28  var_VPA              9 non-null      float64\n",
      " 29  rent_VPA_periodo     9 non-null      float64\n",
      " 30  rent_VPA_acc         9 non-null      float64\n",
      " 31  vacancia_fisica      118 non-null    float64\n",
      " 32  vacancia_financeira  26 non-null     float64\n",
      " 33  qtd_ativos           246 non-null    float64\n",
      "dtypes: float64(30), object(4)\n",
      "memory usage: 97.6+ KB\n"
     ]
    }
   ],
   "source": [
    "df.info()"
   ]
  },
  {
   "cell_type": "markdown",
   "metadata": {},
   "source": [
    "O Dataframe possui 34 características/informações de **357 FIIs**.\n",
    "\n",
    "Todos os dados já foram pré-processados pelo `data_miner.py` com o objetivo de limpar e definir a correta tipagem dos dados (os arquivos .csv na pasta `data/` estão no formato cru, ou seja, dados não processados, conforme foram obtidos na web). \n",
    "\n",
    "Entretanto, pode-se observar que há muitos dados faltantes. Vamos analisar caso a caso."
   ]
  },
  {
   "cell_type": "markdown",
   "metadata": {},
   "source": [
    "### Dados Faltantes"
   ]
  },
  {
   "cell_type": "code",
   "execution_count": 4,
   "metadata": {
    "ExecuteTime": {
     "end_time": "2021-07-30T16:38:10.741654Z",
     "start_time": "2021-07-30T16:38:10.728693Z"
    }
   },
   "outputs": [
    {
     "data": {
      "text/plain": [
       "ticker                   0\n",
       "nome                     1\n",
       "tipo_gestao              1\n",
       "setor                  112\n",
       "preço                    1\n",
       "dy                       1\n",
       "pct_caixa                5\n",
       "num_cotistas             1\n",
       "PL                       1\n",
       "PVPA                    55\n",
       "liquidez_diaria_avg     73\n",
       "cagr_dividendo         237\n",
       "cagr_cota              244\n",
       "liquidez_diaria        119\n",
       "div_mes_brl            111\n",
       "dy_1m                  124\n",
       "dy_3m_acc              124\n",
       "dy_6m_acc              124\n",
       "dy_12m_acc             124\n",
       "dy_3m_avg              124\n",
       "dy_6m_avg              124\n",
       "dy_12m_avg             124\n",
       "dy_ano                 137\n",
       "var_preço              124\n",
       "rent_periodo           124\n",
       "rent_acc               124\n",
       "VPA                    111\n",
       "dy_VPA                 348\n",
       "var_VPA                348\n",
       "rent_VPA_periodo       348\n",
       "rent_VPA_acc           348\n",
       "vacancia_fisica        239\n",
       "vacancia_financeira    331\n",
       "qtd_ativos             111\n",
       "dtype: int64"
      ]
     },
     "execution_count": 4,
     "metadata": {},
     "output_type": "execute_result"
    }
   ],
   "source": [
    "df.isna().sum()"
   ]
  },
  {
   "cell_type": "markdown",
   "metadata": {},
   "source": [
    "Existe uma observaçao sem nome. Buscando-a é possível observar que se trata do FII `YUFI11B` que em uma base dados aparece sem o final \"B\" de Balcão, linhas 354 e 356. Como o fundo possui somente 9 cotistas (filtro de número de cotistas será adicionado posteriormente), essa observação será removida."
   ]
  },
  {
   "cell_type": "code",
   "execution_count": 5,
   "metadata": {
    "ExecuteTime": {
     "end_time": "2021-07-30T16:38:10.789524Z",
     "start_time": "2021-07-30T16:38:10.744650Z"
    }
   },
   "outputs": [
    {
     "data": {
      "text/html": [
       "<div>\n",
       "<style scoped>\n",
       "    .dataframe tbody tr th:only-of-type {\n",
       "        vertical-align: middle;\n",
       "    }\n",
       "\n",
       "    .dataframe tbody tr th {\n",
       "        vertical-align: top;\n",
       "    }\n",
       "\n",
       "    .dataframe thead th {\n",
       "        text-align: right;\n",
       "    }\n",
       "</style>\n",
       "<table border=\"1\" class=\"dataframe\">\n",
       "  <thead>\n",
       "    <tr style=\"text-align: right;\">\n",
       "      <th></th>\n",
       "      <th>ticker</th>\n",
       "      <th>nome</th>\n",
       "      <th>tipo_gestao</th>\n",
       "      <th>setor</th>\n",
       "      <th>preço</th>\n",
       "      <th>dy</th>\n",
       "      <th>pct_caixa</th>\n",
       "      <th>num_cotistas</th>\n",
       "      <th>PL</th>\n",
       "      <th>PVPA</th>\n",
       "      <th>...</th>\n",
       "      <th>rent_periodo</th>\n",
       "      <th>rent_acc</th>\n",
       "      <th>VPA</th>\n",
       "      <th>dy_VPA</th>\n",
       "      <th>var_VPA</th>\n",
       "      <th>rent_VPA_periodo</th>\n",
       "      <th>rent_VPA_acc</th>\n",
       "      <th>vacancia_fisica</th>\n",
       "      <th>vacancia_financeira</th>\n",
       "      <th>qtd_ativos</th>\n",
       "    </tr>\n",
       "  </thead>\n",
       "  <tbody>\n",
       "    <tr>\n",
       "      <th>354</th>\n",
       "      <td>YUFI11</td>\n",
       "      <td>YUCA FDO INV. IMOB.</td>\n",
       "      <td>Ativa</td>\n",
       "      <td>NaN</td>\n",
       "      <td>0.00</td>\n",
       "      <td>0.0</td>\n",
       "      <td>1.8786</td>\n",
       "      <td>9.0</td>\n",
       "      <td>37581481.17</td>\n",
       "      <td>NaN</td>\n",
       "      <td>...</td>\n",
       "      <td>NaN</td>\n",
       "      <td>NaN</td>\n",
       "      <td>NaN</td>\n",
       "      <td>NaN</td>\n",
       "      <td>NaN</td>\n",
       "      <td>NaN</td>\n",
       "      <td>NaN</td>\n",
       "      <td>NaN</td>\n",
       "      <td>NaN</td>\n",
       "      <td>NaN</td>\n",
       "    </tr>\n",
       "    <tr>\n",
       "      <th>355</th>\n",
       "      <td>ZIFI11</td>\n",
       "      <td>ZION CAPITAL FUNDO DE INVESTIMENTO IMOBILIÁRIO</td>\n",
       "      <td>Ativa</td>\n",
       "      <td>NaN</td>\n",
       "      <td>1200.01</td>\n",
       "      <td>0.0</td>\n",
       "      <td>2.7883</td>\n",
       "      <td>16.0</td>\n",
       "      <td>23483861.85</td>\n",
       "      <td>1.0616</td>\n",
       "      <td>...</td>\n",
       "      <td>NaN</td>\n",
       "      <td>NaN</td>\n",
       "      <td>NaN</td>\n",
       "      <td>NaN</td>\n",
       "      <td>NaN</td>\n",
       "      <td>NaN</td>\n",
       "      <td>NaN</td>\n",
       "      <td>NaN</td>\n",
       "      <td>NaN</td>\n",
       "      <td>NaN</td>\n",
       "    </tr>\n",
       "    <tr>\n",
       "      <th>356</th>\n",
       "      <td>YUFI11B</td>\n",
       "      <td>NaN</td>\n",
       "      <td>NaN</td>\n",
       "      <td>Residencial</td>\n",
       "      <td>NaN</td>\n",
       "      <td>NaN</td>\n",
       "      <td>NaN</td>\n",
       "      <td>NaN</td>\n",
       "      <td>NaN</td>\n",
       "      <td>NaN</td>\n",
       "      <td>...</td>\n",
       "      <td>0.0</td>\n",
       "      <td>0.0</td>\n",
       "      <td>95.11</td>\n",
       "      <td>NaN</td>\n",
       "      <td>NaN</td>\n",
       "      <td>NaN</td>\n",
       "      <td>NaN</td>\n",
       "      <td>NaN</td>\n",
       "      <td>NaN</td>\n",
       "      <td>0.0</td>\n",
       "    </tr>\n",
       "  </tbody>\n",
       "</table>\n",
       "<p>3 rows × 34 columns</p>\n",
       "</div>"
      ],
      "text/plain": [
       "      ticker                                            nome tipo_gestao  \\\n",
       "354   YUFI11                             YUCA FDO INV. IMOB.       Ativa   \n",
       "355   ZIFI11  ZION CAPITAL FUNDO DE INVESTIMENTO IMOBILIÁRIO       Ativa   \n",
       "356  YUFI11B                                             NaN         NaN   \n",
       "\n",
       "           setor    preço   dy  pct_caixa  num_cotistas           PL    PVPA  \\\n",
       "354          NaN     0.00  0.0     1.8786           9.0  37581481.17     NaN   \n",
       "355          NaN  1200.01  0.0     2.7883          16.0  23483861.85  1.0616   \n",
       "356  Residencial      NaN  NaN        NaN           NaN          NaN     NaN   \n",
       "\n",
       "     ...  rent_periodo  rent_acc    VPA  dy_VPA  var_VPA  rent_VPA_periodo  \\\n",
       "354  ...           NaN       NaN    NaN     NaN      NaN               NaN   \n",
       "355  ...           NaN       NaN    NaN     NaN      NaN               NaN   \n",
       "356  ...           0.0       0.0  95.11     NaN      NaN               NaN   \n",
       "\n",
       "     rent_VPA_acc  vacancia_fisica  vacancia_financeira  qtd_ativos  \n",
       "354           NaN              NaN                  NaN         NaN  \n",
       "355           NaN              NaN                  NaN         NaN  \n",
       "356           NaN              NaN                  NaN         0.0  \n",
       "\n",
       "[3 rows x 34 columns]"
      ]
     },
     "execution_count": 5,
     "metadata": {},
     "output_type": "execute_result"
    }
   ],
   "source": [
    "i = df[df['nome'].isna()].index[0]\n",
    "df.loc[i-2:i,:]"
   ]
  },
  {
   "cell_type": "code",
   "execution_count": 6,
   "metadata": {
    "ExecuteTime": {
     "end_time": "2021-07-30T16:38:10.805480Z",
     "start_time": "2021-07-30T16:38:10.792515Z"
    }
   },
   "outputs": [
    {
     "data": {
      "text/plain": [
       "ticker                   0\n",
       "nome                     0\n",
       "tipo_gestao              0\n",
       "setor                  112\n",
       "preço                    0\n",
       "dy                       0\n",
       "pct_caixa                4\n",
       "num_cotistas             0\n",
       "PL                       0\n",
       "PVPA                    54\n",
       "liquidez_diaria_avg     72\n",
       "cagr_dividendo         236\n",
       "cagr_cota              243\n",
       "liquidez_diaria        118\n",
       "div_mes_brl            111\n",
       "dy_1m                  124\n",
       "dy_3m_acc              124\n",
       "dy_6m_acc              124\n",
       "dy_12m_acc             124\n",
       "dy_3m_avg              124\n",
       "dy_6m_avg              124\n",
       "dy_12m_avg             124\n",
       "dy_ano                 136\n",
       "var_preço              124\n",
       "rent_periodo           124\n",
       "rent_acc               124\n",
       "VPA                    111\n",
       "dy_VPA                 347\n",
       "var_VPA                347\n",
       "rent_VPA_periodo       347\n",
       "rent_VPA_acc           347\n",
       "vacancia_fisica        238\n",
       "vacancia_financeira    330\n",
       "qtd_ativos             111\n",
       "dtype: int64"
      ]
     },
     "execution_count": 6,
     "metadata": {},
     "output_type": "execute_result"
    }
   ],
   "source": [
    "df.drop(i, inplace = True)\n",
    "df.isna().sum()"
   ]
  },
  {
   "cell_type": "markdown",
   "metadata": {},
   "source": [
    "Há 112 valores nulos na variável `setor`. Vamos observá-los!"
   ]
  },
  {
   "cell_type": "code",
   "execution_count": 7,
   "metadata": {
    "ExecuteTime": {
     "end_time": "2021-07-30T16:38:10.867323Z",
     "start_time": "2021-07-30T16:38:10.812462Z"
    }
   },
   "outputs": [
    {
     "data": {
      "text/html": [
       "<div>\n",
       "<style scoped>\n",
       "    .dataframe tbody tr th:only-of-type {\n",
       "        vertical-align: middle;\n",
       "    }\n",
       "\n",
       "    .dataframe tbody tr th {\n",
       "        vertical-align: top;\n",
       "    }\n",
       "\n",
       "    .dataframe thead th {\n",
       "        text-align: right;\n",
       "    }\n",
       "</style>\n",
       "<table border=\"1\" class=\"dataframe\">\n",
       "  <thead>\n",
       "    <tr style=\"text-align: right;\">\n",
       "      <th></th>\n",
       "      <th>ticker</th>\n",
       "      <th>nome</th>\n",
       "      <th>tipo_gestao</th>\n",
       "      <th>setor</th>\n",
       "      <th>preço</th>\n",
       "      <th>dy</th>\n",
       "      <th>pct_caixa</th>\n",
       "      <th>num_cotistas</th>\n",
       "      <th>PL</th>\n",
       "      <th>PVPA</th>\n",
       "      <th>...</th>\n",
       "      <th>rent_periodo</th>\n",
       "      <th>rent_acc</th>\n",
       "      <th>VPA</th>\n",
       "      <th>dy_VPA</th>\n",
       "      <th>var_VPA</th>\n",
       "      <th>rent_VPA_periodo</th>\n",
       "      <th>rent_VPA_acc</th>\n",
       "      <th>vacancia_fisica</th>\n",
       "      <th>vacancia_financeira</th>\n",
       "      <th>qtd_ativos</th>\n",
       "    </tr>\n",
       "  </thead>\n",
       "  <tbody>\n",
       "    <tr>\n",
       "      <th>1</th>\n",
       "      <td>EGYR11</td>\n",
       "      <td>ENERGY RESORT FDO. INVEST. IMOB</td>\n",
       "      <td>Passiva</td>\n",
       "      <td>NaN</td>\n",
       "      <td>0.00</td>\n",
       "      <td>0.0000</td>\n",
       "      <td>0.0576</td>\n",
       "      <td>21.0</td>\n",
       "      <td>9.322396e+07</td>\n",
       "      <td>NaN</td>\n",
       "      <td>...</td>\n",
       "      <td>NaN</td>\n",
       "      <td>NaN</td>\n",
       "      <td>NaN</td>\n",
       "      <td>NaN</td>\n",
       "      <td>NaN</td>\n",
       "      <td>NaN</td>\n",
       "      <td>NaN</td>\n",
       "      <td>NaN</td>\n",
       "      <td>NaN</td>\n",
       "      <td>NaN</td>\n",
       "    </tr>\n",
       "    <tr>\n",
       "      <th>2</th>\n",
       "      <td>FINF11</td>\n",
       "      <td>Infra Real State</td>\n",
       "      <td>Ativa</td>\n",
       "      <td>NaN</td>\n",
       "      <td>0.00</td>\n",
       "      <td>0.0000</td>\n",
       "      <td>0.7986</td>\n",
       "      <td>4.0</td>\n",
       "      <td>8.364985e+07</td>\n",
       "      <td>NaN</td>\n",
       "      <td>...</td>\n",
       "      <td>NaN</td>\n",
       "      <td>NaN</td>\n",
       "      <td>NaN</td>\n",
       "      <td>NaN</td>\n",
       "      <td>NaN</td>\n",
       "      <td>NaN</td>\n",
       "      <td>NaN</td>\n",
       "      <td>NaN</td>\n",
       "      <td>NaN</td>\n",
       "      <td>NaN</td>\n",
       "    </tr>\n",
       "    <tr>\n",
       "      <th>3</th>\n",
       "      <td>FCAS11</td>\n",
       "      <td>Edifício Castelo</td>\n",
       "      <td>Passiva</td>\n",
       "      <td>NaN</td>\n",
       "      <td>0.00</td>\n",
       "      <td>0.0000</td>\n",
       "      <td>186.1664</td>\n",
       "      <td>2.0</td>\n",
       "      <td>8.068422e+07</td>\n",
       "      <td>NaN</td>\n",
       "      <td>...</td>\n",
       "      <td>NaN</td>\n",
       "      <td>NaN</td>\n",
       "      <td>NaN</td>\n",
       "      <td>NaN</td>\n",
       "      <td>NaN</td>\n",
       "      <td>NaN</td>\n",
       "      <td>NaN</td>\n",
       "      <td>NaN</td>\n",
       "      <td>NaN</td>\n",
       "      <td>NaN</td>\n",
       "    </tr>\n",
       "    <tr>\n",
       "      <th>6</th>\n",
       "      <td>ANCR11B</td>\n",
       "      <td>Ancar CI</td>\n",
       "      <td>Ativa</td>\n",
       "      <td>NaN</td>\n",
       "      <td>3400.00</td>\n",
       "      <td>1.1037</td>\n",
       "      <td>0.9010</td>\n",
       "      <td>55.0</td>\n",
       "      <td>1.502356e+09</td>\n",
       "      <td>1.0209</td>\n",
       "      <td>...</td>\n",
       "      <td>NaN</td>\n",
       "      <td>NaN</td>\n",
       "      <td>NaN</td>\n",
       "      <td>NaN</td>\n",
       "      <td>NaN</td>\n",
       "      <td>NaN</td>\n",
       "      <td>NaN</td>\n",
       "      <td>NaN</td>\n",
       "      <td>NaN</td>\n",
       "      <td>NaN</td>\n",
       "    </tr>\n",
       "    <tr>\n",
       "      <th>9</th>\n",
       "      <td>BRIM11</td>\n",
       "      <td>BRIO REAL ESTATE II - FDO INV IMOB</td>\n",
       "      <td>Ativa</td>\n",
       "      <td>NaN</td>\n",
       "      <td>1200.01</td>\n",
       "      <td>0.0000</td>\n",
       "      <td>5.4897</td>\n",
       "      <td>121.0</td>\n",
       "      <td>1.204895e+08</td>\n",
       "      <td>1.2363</td>\n",
       "      <td>...</td>\n",
       "      <td>NaN</td>\n",
       "      <td>NaN</td>\n",
       "      <td>NaN</td>\n",
       "      <td>NaN</td>\n",
       "      <td>NaN</td>\n",
       "      <td>NaN</td>\n",
       "      <td>NaN</td>\n",
       "      <td>NaN</td>\n",
       "      <td>NaN</td>\n",
       "      <td>NaN</td>\n",
       "    </tr>\n",
       "    <tr>\n",
       "      <th>10</th>\n",
       "      <td>BRIP11</td>\n",
       "      <td>BRIO REAL ESTATE III</td>\n",
       "      <td>Ativa</td>\n",
       "      <td>NaN</td>\n",
       "      <td>1099.00</td>\n",
       "      <td>0.0000</td>\n",
       "      <td>19.9399</td>\n",
       "      <td>235.0</td>\n",
       "      <td>1.070182e+08</td>\n",
       "      <td>1.1126</td>\n",
       "      <td>...</td>\n",
       "      <td>NaN</td>\n",
       "      <td>NaN</td>\n",
       "      <td>NaN</td>\n",
       "      <td>NaN</td>\n",
       "      <td>NaN</td>\n",
       "      <td>NaN</td>\n",
       "      <td>NaN</td>\n",
       "      <td>NaN</td>\n",
       "      <td>NaN</td>\n",
       "      <td>NaN</td>\n",
       "    </tr>\n",
       "    <tr>\n",
       "      <th>14</th>\n",
       "      <td>BTRA11</td>\n",
       "      <td>FDO INV IMOB BTG PACTUAL TERRAS AGRÍCOLAS</td>\n",
       "      <td>Ativa</td>\n",
       "      <td>NaN</td>\n",
       "      <td>96.10</td>\n",
       "      <td>0.0029</td>\n",
       "      <td>100.0140</td>\n",
       "      <td>7275.0</td>\n",
       "      <td>3.362901e+08</td>\n",
       "      <td>0.9615</td>\n",
       "      <td>...</td>\n",
       "      <td>NaN</td>\n",
       "      <td>NaN</td>\n",
       "      <td>NaN</td>\n",
       "      <td>NaN</td>\n",
       "      <td>NaN</td>\n",
       "      <td>NaN</td>\n",
       "      <td>NaN</td>\n",
       "      <td>NaN</td>\n",
       "      <td>NaN</td>\n",
       "      <td>NaN</td>\n",
       "    </tr>\n",
       "    <tr>\n",
       "      <th>15</th>\n",
       "      <td>BTSG11</td>\n",
       "      <td>BTSP I FDO. INVEST. IMOB</td>\n",
       "      <td>Ativa</td>\n",
       "      <td>NaN</td>\n",
       "      <td>0.00</td>\n",
       "      <td>0.0000</td>\n",
       "      <td>0.9152</td>\n",
       "      <td>52.0</td>\n",
       "      <td>7.261384e+07</td>\n",
       "      <td>NaN</td>\n",
       "      <td>...</td>\n",
       "      <td>NaN</td>\n",
       "      <td>NaN</td>\n",
       "      <td>NaN</td>\n",
       "      <td>NaN</td>\n",
       "      <td>NaN</td>\n",
       "      <td>NaN</td>\n",
       "      <td>NaN</td>\n",
       "      <td>NaN</td>\n",
       "      <td>NaN</td>\n",
       "      <td>NaN</td>\n",
       "    </tr>\n",
       "    <tr>\n",
       "      <th>16</th>\n",
       "      <td>BTSI11</td>\n",
       "      <td>BTSP II FUNDO DE INVESTIMENTO IMOBILIÁRIO</td>\n",
       "      <td>Ativa</td>\n",
       "      <td>NaN</td>\n",
       "      <td>0.00</td>\n",
       "      <td>0.0000</td>\n",
       "      <td>0.3145</td>\n",
       "      <td>52.0</td>\n",
       "      <td>1.784025e+07</td>\n",
       "      <td>NaN</td>\n",
       "      <td>...</td>\n",
       "      <td>NaN</td>\n",
       "      <td>NaN</td>\n",
       "      <td>NaN</td>\n",
       "      <td>NaN</td>\n",
       "      <td>NaN</td>\n",
       "      <td>NaN</td>\n",
       "      <td>NaN</td>\n",
       "      <td>NaN</td>\n",
       "      <td>NaN</td>\n",
       "      <td>NaN</td>\n",
       "    </tr>\n",
       "    <tr>\n",
       "      <th>17</th>\n",
       "      <td>BVAR11</td>\n",
       "      <td>Brasil Varejo</td>\n",
       "      <td>Passiva</td>\n",
       "      <td>NaN</td>\n",
       "      <td>0.00</td>\n",
       "      <td>0.0000</td>\n",
       "      <td>0.8708</td>\n",
       "      <td>69.0</td>\n",
       "      <td>6.801733e+08</td>\n",
       "      <td>NaN</td>\n",
       "      <td>...</td>\n",
       "      <td>NaN</td>\n",
       "      <td>NaN</td>\n",
       "      <td>NaN</td>\n",
       "      <td>NaN</td>\n",
       "      <td>NaN</td>\n",
       "      <td>NaN</td>\n",
       "      <td>NaN</td>\n",
       "      <td>NaN</td>\n",
       "      <td>NaN</td>\n",
       "      <td>NaN</td>\n",
       "    </tr>\n",
       "  </tbody>\n",
       "</table>\n",
       "<p>10 rows × 34 columns</p>\n",
       "</div>"
      ],
      "text/plain": [
       "     ticker                                       nome tipo_gestao setor  \\\n",
       "1    EGYR11            ENERGY RESORT FDO. INVEST. IMOB     Passiva   NaN   \n",
       "2    FINF11                           Infra Real State       Ativa   NaN   \n",
       "3    FCAS11                           Edifício Castelo     Passiva   NaN   \n",
       "6   ANCR11B                                   Ancar CI       Ativa   NaN   \n",
       "9    BRIM11         BRIO REAL ESTATE II - FDO INV IMOB       Ativa   NaN   \n",
       "10   BRIP11                       BRIO REAL ESTATE III       Ativa   NaN   \n",
       "14   BTRA11  FDO INV IMOB BTG PACTUAL TERRAS AGRÍCOLAS       Ativa   NaN   \n",
       "15   BTSG11                   BTSP I FDO. INVEST. IMOB       Ativa   NaN   \n",
       "16   BTSI11  BTSP II FUNDO DE INVESTIMENTO IMOBILIÁRIO       Ativa   NaN   \n",
       "17   BVAR11                              Brasil Varejo     Passiva   NaN   \n",
       "\n",
       "      preço      dy  pct_caixa  num_cotistas            PL    PVPA  ...  \\\n",
       "1      0.00  0.0000     0.0576          21.0  9.322396e+07     NaN  ...   \n",
       "2      0.00  0.0000     0.7986           4.0  8.364985e+07     NaN  ...   \n",
       "3      0.00  0.0000   186.1664           2.0  8.068422e+07     NaN  ...   \n",
       "6   3400.00  1.1037     0.9010          55.0  1.502356e+09  1.0209  ...   \n",
       "9   1200.01  0.0000     5.4897         121.0  1.204895e+08  1.2363  ...   \n",
       "10  1099.00  0.0000    19.9399         235.0  1.070182e+08  1.1126  ...   \n",
       "14    96.10  0.0029   100.0140        7275.0  3.362901e+08  0.9615  ...   \n",
       "15     0.00  0.0000     0.9152          52.0  7.261384e+07     NaN  ...   \n",
       "16     0.00  0.0000     0.3145          52.0  1.784025e+07     NaN  ...   \n",
       "17     0.00  0.0000     0.8708          69.0  6.801733e+08     NaN  ...   \n",
       "\n",
       "    rent_periodo  rent_acc  VPA  dy_VPA  var_VPA  rent_VPA_periodo  \\\n",
       "1            NaN       NaN  NaN     NaN      NaN               NaN   \n",
       "2            NaN       NaN  NaN     NaN      NaN               NaN   \n",
       "3            NaN       NaN  NaN     NaN      NaN               NaN   \n",
       "6            NaN       NaN  NaN     NaN      NaN               NaN   \n",
       "9            NaN       NaN  NaN     NaN      NaN               NaN   \n",
       "10           NaN       NaN  NaN     NaN      NaN               NaN   \n",
       "14           NaN       NaN  NaN     NaN      NaN               NaN   \n",
       "15           NaN       NaN  NaN     NaN      NaN               NaN   \n",
       "16           NaN       NaN  NaN     NaN      NaN               NaN   \n",
       "17           NaN       NaN  NaN     NaN      NaN               NaN   \n",
       "\n",
       "    rent_VPA_acc  vacancia_fisica  vacancia_financeira  qtd_ativos  \n",
       "1            NaN              NaN                  NaN         NaN  \n",
       "2            NaN              NaN                  NaN         NaN  \n",
       "3            NaN              NaN                  NaN         NaN  \n",
       "6            NaN              NaN                  NaN         NaN  \n",
       "9            NaN              NaN                  NaN         NaN  \n",
       "10           NaN              NaN                  NaN         NaN  \n",
       "14           NaN              NaN                  NaN         NaN  \n",
       "15           NaN              NaN                  NaN         NaN  \n",
       "16           NaN              NaN                  NaN         NaN  \n",
       "17           NaN              NaN                  NaN         NaN  \n",
       "\n",
       "[10 rows x 34 columns]"
      ]
     },
     "execution_count": 7,
     "metadata": {},
     "output_type": "execute_result"
    }
   ],
   "source": [
    "setor_na = df.loc[df['setor'].isna()]\n",
    "setor_na.head(10)"
   ]
  },
  {
   "cell_type": "code",
   "execution_count": 8,
   "metadata": {
    "ExecuteTime": {
     "end_time": "2021-07-30T16:38:10.883272Z",
     "start_time": "2021-07-30T16:38:10.873299Z"
    }
   },
   "outputs": [
    {
     "name": "stdout",
     "output_type": "stream",
     "text": [
      "['EGYR11', 'FINF11', 'FCAS11', 'ANCR11B', 'BRIM11', 'BRIP11', 'BTRA11', 'BTSG11', 'BTSI11', 'BVAR11', 'BZEL11', 'DOVL11B', 'FISD11', 'FOFT11', 'FVBI11', 'GRLV11', 'JTPR11', 'LOFT11B', 'MINT11', 'PBLV11', 'PRTS11', 'RBRM11', 'RMAI11', 'SOLR11', 'SPAF11', 'TBOF11', 'TCIN11', 'TCPF11', 'TORM13', 'TOUR11', 'VCRR11', 'VTRT11', 'VTVI11', 'VTXI11', 'XPHT12', 'ATCR11', 'ATWN11', 'VERE11', 'CJFI11', 'BMII11', 'ERPA11', 'BPRP11', 'BRHT11B', 'HBTT11', 'HCST11', 'HMOC11', 'JBFO11', 'CCRF11', 'ESTQ11', 'LATR11B', 'LKDV11', 'BLMO11', 'AQLL11', 'ARFI11B', 'FPNG11', 'FTCE11B', 'HUSI11', 'MORC11', 'CFHI11', 'BICE11', 'BTWR11', 'DLMT11', 'IBCR11', 'KEVE11', 'MTOF11', 'PEMA11', 'DAMT11B', 'DVFF11', 'NPAR11', 'RBTS11', 'RCRI11B', 'ELDO11B', 'HBCR11', 'PNDL11', 'PNPR11', 'PRZS11', 'JPPC11', 'MGLG11', 'LSPA11', 'MVFI11', 'MOFF11', 'RBIR11', 'PRSN11B', 'REIT11', 'SFND11', 'PATB11', 'QAMI11', 'RCFA11', 'RCFF11', 'SHDP11B', 'SHOP11', 'ROOF11', 'RSPD11', 'SAIC11B', 'SALI11', 'SBCL11', 'TFOF11', 'SJAU11', 'VSEC11', 'VTPA11', 'VTPL11', 'TRXB11', 'TSER11', 'TSNC11', 'VIDS11', 'VIUR11', 'VJFD11', 'VLJS11', 'VPSI11', 'XBXO11', 'YUFI11', 'ZIFI11']\n"
     ]
    }
   ],
   "source": [
    "print(list(setor_na.ticker))"
   ]
  },
  {
   "cell_type": "markdown",
   "metadata": {},
   "source": [
    "É possível observar que os fundos que não possuem dados para o setor, não possuem dados para várias variáveis mais a direita do DF (variáveis obtidas atraves do site Funds Explorer). Isso se deve ao fato de as fontes de dados retornarem quantidades diferentes de Fundos Imobiliários:"
   ]
  },
  {
   "cell_type": "code",
   "execution_count": 9,
   "metadata": {
    "ExecuteTime": {
     "end_time": "2021-07-30T16:38:10.930147Z",
     "start_time": "2021-07-30T16:38:10.891252Z"
    }
   },
   "outputs": [
    {
     "name": "stdout",
     "output_type": "stream",
     "text": [
      "Quantidade de FIIs em Funds Explorer: 246\n",
      "Quantidade de FIIs em Status Invest: 356\n"
     ]
    },
    {
     "data": {
      "text/plain": [
       "110"
      ]
     },
     "execution_count": 9,
     "metadata": {},
     "output_type": "execute_result"
    }
   ],
   "source": [
    "qtd_fe = len(DataFII().get_raw_data_fundsexplorer())\n",
    "qtd_si = len(DataFII().get_raw_data_statusinvest())\n",
    "\n",
    "print(\"Quantidade de FIIs em Funds Explorer: {}\".format(qtd_fe))\n",
    "print(\"Quantidade de FIIs em Status Invest: {}\".format(qtd_si))\n",
    "qtd_si - qtd_fe"
   ]
  },
  {
   "cell_type": "markdown",
   "metadata": {},
   "source": [
    "Analisando esses fundos pode-se observar que muitos são fundos pequenos sem negociação em bolsa de valores ou que já fecharam.\n",
    "\n",
    "Logo, essas observações serão excluidas:"
   ]
  },
  {
   "cell_type": "code",
   "execution_count": 10,
   "metadata": {
    "ExecuteTime": {
     "end_time": "2021-07-30T16:38:10.946108Z",
     "start_time": "2021-07-30T16:38:10.932141Z"
    }
   },
   "outputs": [
    {
     "data": {
      "text/plain": [
       "ticker                   0\n",
       "nome                     0\n",
       "tipo_gestao              0\n",
       "setor                    0\n",
       "preço                    0\n",
       "dy                       0\n",
       "pct_caixa                2\n",
       "num_cotistas             0\n",
       "PL                       0\n",
       "PVPA                     5\n",
       "liquidez_diaria_avg      6\n",
       "cagr_dividendo         138\n",
       "cagr_cota              138\n",
       "liquidez_diaria          7\n",
       "div_mes_brl              0\n",
       "dy_1m                   12\n",
       "dy_3m_acc               12\n",
       "dy_6m_acc               12\n",
       "dy_12m_acc              12\n",
       "dy_3m_avg               12\n",
       "dy_6m_avg               12\n",
       "dy_12m_avg              12\n",
       "dy_ano                  24\n",
       "var_preço               12\n",
       "rent_periodo            12\n",
       "rent_acc                12\n",
       "VPA                      0\n",
       "dy_VPA                 235\n",
       "var_VPA                235\n",
       "rent_VPA_periodo       235\n",
       "rent_VPA_acc           235\n",
       "vacancia_fisica        126\n",
       "vacancia_financeira    218\n",
       "qtd_ativos               0\n",
       "dtype: int64"
      ]
     },
     "execution_count": 10,
     "metadata": {},
     "output_type": "execute_result"
    }
   ],
   "source": [
    "df.drop(setor_na.index, inplace = True)\n",
    "df.isna().sum()"
   ]
  },
  {
   "cell_type": "code",
   "execution_count": 11,
   "metadata": {
    "ExecuteTime": {
     "end_time": "2021-07-30T16:38:10.962061Z",
     "start_time": "2021-07-30T16:38:10.953086Z"
    }
   },
   "outputs": [
    {
     "data": {
      "text/plain": [
       "244"
      ]
     },
     "execution_count": 11,
     "metadata": {},
     "output_type": "execute_result"
    }
   ],
   "source": [
    "len(df)"
   ]
  },
  {
   "cell_type": "markdown",
   "metadata": {},
   "source": [
    "As variáveis `dy_VPA`, `var_VPA`, `rent_VPA_periodo`, `rent_VPA_acc` e `vacancia_financeira` possuem pouquísimos dados, somente 9 (26 para vacancia_financeira) das 244 observações contém algum tipo de informação. \n",
    "\n",
    "Essas variáveis serão removidas:"
   ]
  },
  {
   "cell_type": "code",
   "execution_count": 12,
   "metadata": {
    "ExecuteTime": {
     "end_time": "2021-07-30T16:38:10.992980Z",
     "start_time": "2021-07-30T16:38:10.966051Z"
    }
   },
   "outputs": [
    {
     "data": {
      "text/plain": [
       "ticker                   0\n",
       "nome                     0\n",
       "tipo_gestao              0\n",
       "setor                    0\n",
       "preço                    0\n",
       "dy                       0\n",
       "pct_caixa                2\n",
       "num_cotistas             0\n",
       "PL                       0\n",
       "PVPA                     5\n",
       "liquidez_diaria_avg      6\n",
       "cagr_dividendo         138\n",
       "cagr_cota              138\n",
       "liquidez_diaria          7\n",
       "div_mes_brl              0\n",
       "dy_1m                   12\n",
       "dy_3m_acc               12\n",
       "dy_6m_acc               12\n",
       "dy_12m_acc              12\n",
       "dy_3m_avg               12\n",
       "dy_6m_avg               12\n",
       "dy_12m_avg              12\n",
       "dy_ano                  24\n",
       "var_preço               12\n",
       "rent_periodo            12\n",
       "rent_acc                12\n",
       "VPA                      0\n",
       "vacancia_fisica        126\n",
       "qtd_ativos               0\n",
       "dtype: int64"
      ]
     },
     "execution_count": 12,
     "metadata": {},
     "output_type": "execute_result"
    }
   ],
   "source": [
    "df.drop(['dy_VPA', 'var_VPA', 'rent_VPA_periodo', 'rent_VPA_acc', 'vacancia_financeira'],\n",
    "        axis = 1, inplace = True)\n",
    "df.isna().sum()"
   ]
  },
  {
   "cell_type": "markdown",
   "metadata": {},
   "source": [
    "As variáveis de CAGR possuem uma grande quantidade de valores nulos, grande parte devido ao fato de o fundo ter menos que 5 anos. Criaremos uma variável categórica `menos_5_anos` para identificar os fundos que possuem ambos os CAGRs ausentes e os valores ausentes serão preenchidos com zero.\n",
    "\n",
    "`Nota: CAGR vem do inglês \"Compound Annual Growth Rate\" (Taxa de Crescimento Anual Composta) e é, geralmente, calculada com base em dados dos últimos 5 anos.`"
   ]
  },
  {
   "cell_type": "code",
   "execution_count": 13,
   "metadata": {
    "ExecuteTime": {
     "end_time": "2021-07-30T16:38:11.008936Z",
     "start_time": "2021-07-30T16:38:10.995971Z"
    }
   },
   "outputs": [],
   "source": [
    "# Insere na posição coluna 4, a fim de manter variáveis categóricas no começo do dataframe\n",
    "df.insert(4, 'menos_5_anos', False)\n",
    "df.loc[(df['cagr_dividendo'].isna()) & (df['cagr_cota'].isna()),'menos_5_anos'] = True"
   ]
  },
  {
   "cell_type": "code",
   "execution_count": 14,
   "metadata": {
    "ExecuteTime": {
     "end_time": "2021-07-30T16:38:11.054814Z",
     "start_time": "2021-07-30T16:38:11.011928Z"
    }
   },
   "outputs": [
    {
     "data": {
      "text/html": [
       "<div>\n",
       "<style scoped>\n",
       "    .dataframe tbody tr th:only-of-type {\n",
       "        vertical-align: middle;\n",
       "    }\n",
       "\n",
       "    .dataframe tbody tr th {\n",
       "        vertical-align: top;\n",
       "    }\n",
       "\n",
       "    .dataframe thead th {\n",
       "        text-align: right;\n",
       "    }\n",
       "</style>\n",
       "<table border=\"1\" class=\"dataframe\">\n",
       "  <thead>\n",
       "    <tr style=\"text-align: right;\">\n",
       "      <th></th>\n",
       "      <th>ticker</th>\n",
       "      <th>nome</th>\n",
       "      <th>tipo_gestao</th>\n",
       "      <th>setor</th>\n",
       "      <th>menos_5_anos</th>\n",
       "      <th>preço</th>\n",
       "      <th>dy</th>\n",
       "      <th>pct_caixa</th>\n",
       "      <th>num_cotistas</th>\n",
       "      <th>PL</th>\n",
       "      <th>...</th>\n",
       "      <th>dy_3m_avg</th>\n",
       "      <th>dy_6m_avg</th>\n",
       "      <th>dy_12m_avg</th>\n",
       "      <th>dy_ano</th>\n",
       "      <th>var_preço</th>\n",
       "      <th>rent_periodo</th>\n",
       "      <th>rent_acc</th>\n",
       "      <th>VPA</th>\n",
       "      <th>vacancia_fisica</th>\n",
       "      <th>qtd_ativos</th>\n",
       "    </tr>\n",
       "  </thead>\n",
       "  <tbody>\n",
       "    <tr>\n",
       "      <th>0</th>\n",
       "      <td>BRLA11</td>\n",
       "      <td>FUNDO DE INVESTIMENTO IMOBILIÁRIO BRL PROP II</td>\n",
       "      <td>Passiva</td>\n",
       "      <td>Híbrido</td>\n",
       "      <td>True</td>\n",
       "      <td>0.0</td>\n",
       "      <td>0.0000</td>\n",
       "      <td>0.7435</td>\n",
       "      <td>84.0</td>\n",
       "      <td>1.376312e+08</td>\n",
       "      <td>...</td>\n",
       "      <td>0.00</td>\n",
       "      <td>0.00</td>\n",
       "      <td>0.00</td>\n",
       "      <td>NaN</td>\n",
       "      <td>0.00</td>\n",
       "      <td>0.00</td>\n",
       "      <td>0.00</td>\n",
       "      <td>140.98</td>\n",
       "      <td>NaN</td>\n",
       "      <td>0.0</td>\n",
       "    </tr>\n",
       "    <tr>\n",
       "      <th>4</th>\n",
       "      <td>SHPH11</td>\n",
       "      <td>Shopping Patio Higienopolis</td>\n",
       "      <td>Passiva</td>\n",
       "      <td>Shoppings</td>\n",
       "      <td>False</td>\n",
       "      <td>807.0</td>\n",
       "      <td>3.4885</td>\n",
       "      <td>0.4134</td>\n",
       "      <td>3105.0</td>\n",
       "      <td>5.013048e+08</td>\n",
       "      <td>...</td>\n",
       "      <td>0.25</td>\n",
       "      <td>0.37</td>\n",
       "      <td>0.28</td>\n",
       "      <td>1.27</td>\n",
       "      <td>0.00</td>\n",
       "      <td>0.24</td>\n",
       "      <td>-0.33</td>\n",
       "      <td>823.23</td>\n",
       "      <td>13.3</td>\n",
       "      <td>1.0</td>\n",
       "    </tr>\n",
       "    <tr>\n",
       "      <th>5</th>\n",
       "      <td>ALZR11</td>\n",
       "      <td>Alianza Trust Renda Imobiliária</td>\n",
       "      <td>Ativa</td>\n",
       "      <td>Logística</td>\n",
       "      <td>False</td>\n",
       "      <td>122.0</td>\n",
       "      <td>5.1902</td>\n",
       "      <td>1.8679</td>\n",
       "      <td>93070.0</td>\n",
       "      <td>5.450889e+08</td>\n",
       "      <td>...</td>\n",
       "      <td>0.53</td>\n",
       "      <td>0.49</td>\n",
       "      <td>0.41</td>\n",
       "      <td>2.91</td>\n",
       "      <td>5.65</td>\n",
       "      <td>6.18</td>\n",
       "      <td>-0.60</td>\n",
       "      <td>102.50</td>\n",
       "      <td>0.0</td>\n",
       "      <td>13.0</td>\n",
       "    </tr>\n",
       "    <tr>\n",
       "      <th>7</th>\n",
       "      <td>BBRC11</td>\n",
       "      <td>BB Renda Corporativa</td>\n",
       "      <td>Passiva</td>\n",
       "      <td>Outros</td>\n",
       "      <td>False</td>\n",
       "      <td>112.9</td>\n",
       "      <td>10.0089</td>\n",
       "      <td>4.0449</td>\n",
       "      <td>8727.0</td>\n",
       "      <td>1.794707e+08</td>\n",
       "      <td>...</td>\n",
       "      <td>0.77</td>\n",
       "      <td>0.77</td>\n",
       "      <td>0.72</td>\n",
       "      <td>4.61</td>\n",
       "      <td>-3.22</td>\n",
       "      <td>-2.49</td>\n",
       "      <td>-6.74</td>\n",
       "      <td>112.87</td>\n",
       "      <td>5.4</td>\n",
       "      <td>20.0</td>\n",
       "    </tr>\n",
       "    <tr>\n",
       "      <th>8</th>\n",
       "      <td>BICR11</td>\n",
       "      <td>INTER TÍTULOS IMOB. FDO INV. IMOB.</td>\n",
       "      <td>Ativa</td>\n",
       "      <td>Títulos e Val. Mob.</td>\n",
       "      <td>True</td>\n",
       "      <td>96.0</td>\n",
       "      <td>3.2083</td>\n",
       "      <td>9.6076</td>\n",
       "      <td>602.0</td>\n",
       "      <td>4.953674e+07</td>\n",
       "      <td>...</td>\n",
       "      <td>0.34</td>\n",
       "      <td>0.30</td>\n",
       "      <td>0.26</td>\n",
       "      <td>1.78</td>\n",
       "      <td>-0.94</td>\n",
       "      <td>-0.62</td>\n",
       "      <td>-4.55</td>\n",
       "      <td>99.07</td>\n",
       "      <td>NaN</td>\n",
       "      <td>0.0</td>\n",
       "    </tr>\n",
       "  </tbody>\n",
       "</table>\n",
       "<p>5 rows × 30 columns</p>\n",
       "</div>"
      ],
      "text/plain": [
       "   ticker                                           nome tipo_gestao  \\\n",
       "0  BRLA11  FUNDO DE INVESTIMENTO IMOBILIÁRIO BRL PROP II     Passiva   \n",
       "4  SHPH11                    Shopping Patio Higienopolis     Passiva   \n",
       "5  ALZR11                Alianza Trust Renda Imobiliária       Ativa   \n",
       "7  BBRC11                           BB Renda Corporativa     Passiva   \n",
       "8  BICR11             INTER TÍTULOS IMOB. FDO INV. IMOB.       Ativa   \n",
       "\n",
       "                 setor  menos_5_anos  preço       dy  pct_caixa  num_cotistas  \\\n",
       "0              Híbrido          True    0.0   0.0000     0.7435          84.0   \n",
       "4            Shoppings         False  807.0   3.4885     0.4134        3105.0   \n",
       "5            Logística         False  122.0   5.1902     1.8679       93070.0   \n",
       "7               Outros         False  112.9  10.0089     4.0449        8727.0   \n",
       "8  Títulos e Val. Mob.          True   96.0   3.2083     9.6076         602.0   \n",
       "\n",
       "             PL  ...  dy_3m_avg  dy_6m_avg  dy_12m_avg  dy_ano  var_preço  \\\n",
       "0  1.376312e+08  ...       0.00       0.00        0.00     NaN       0.00   \n",
       "4  5.013048e+08  ...       0.25       0.37        0.28    1.27       0.00   \n",
       "5  5.450889e+08  ...       0.53       0.49        0.41    2.91       5.65   \n",
       "7  1.794707e+08  ...       0.77       0.77        0.72    4.61      -3.22   \n",
       "8  4.953674e+07  ...       0.34       0.30        0.26    1.78      -0.94   \n",
       "\n",
       "   rent_periodo  rent_acc     VPA  vacancia_fisica  qtd_ativos  \n",
       "0          0.00      0.00  140.98              NaN         0.0  \n",
       "4          0.24     -0.33  823.23             13.3         1.0  \n",
       "5          6.18     -0.60  102.50              0.0        13.0  \n",
       "7         -2.49     -6.74  112.87              5.4        20.0  \n",
       "8         -0.62     -4.55   99.07              NaN         0.0  \n",
       "\n",
       "[5 rows x 30 columns]"
      ]
     },
     "execution_count": 14,
     "metadata": {},
     "output_type": "execute_result"
    }
   ],
   "source": [
    "df.head()"
   ]
  },
  {
   "cell_type": "code",
   "execution_count": 15,
   "metadata": {
    "ExecuteTime": {
     "end_time": "2021-07-30T16:38:11.069773Z",
     "start_time": "2021-07-30T16:38:11.058803Z"
    }
   },
   "outputs": [],
   "source": [
    "df.loc[:,['cagr_dividendo', 'cagr_cota']] = df[['cagr_dividendo', 'cagr_cota']].fillna(value = 0)"
   ]
  },
  {
   "cell_type": "code",
   "execution_count": 16,
   "metadata": {
    "ExecuteTime": {
     "end_time": "2021-07-30T16:38:11.085731Z",
     "start_time": "2021-07-30T16:38:11.072765Z"
    }
   },
   "outputs": [
    {
     "data": {
      "text/plain": [
       "ticker                   0\n",
       "nome                     0\n",
       "tipo_gestao              0\n",
       "setor                    0\n",
       "menos_5_anos             0\n",
       "preço                    0\n",
       "dy                       0\n",
       "pct_caixa                2\n",
       "num_cotistas             0\n",
       "PL                       0\n",
       "PVPA                     5\n",
       "liquidez_diaria_avg      6\n",
       "cagr_dividendo           0\n",
       "cagr_cota                0\n",
       "liquidez_diaria          7\n",
       "div_mes_brl              0\n",
       "dy_1m                   12\n",
       "dy_3m_acc               12\n",
       "dy_6m_acc               12\n",
       "dy_12m_acc              12\n",
       "dy_3m_avg               12\n",
       "dy_6m_avg               12\n",
       "dy_12m_avg              12\n",
       "dy_ano                  24\n",
       "var_preço               12\n",
       "rent_periodo            12\n",
       "rent_acc                12\n",
       "VPA                      0\n",
       "vacancia_fisica        126\n",
       "qtd_ativos               0\n",
       "dtype: int64"
      ]
     },
     "execution_count": 16,
     "metadata": {},
     "output_type": "execute_result"
    }
   ],
   "source": [
    "df.isna().sum()"
   ]
  },
  {
   "cell_type": "markdown",
   "metadata": {},
   "source": [
    "Vacância Física é ausente em 126 observações. Alguns são dados ausentes, mas a maioria (75 observações) são fundos de \"Títulos e Valores Mobiliários\", no qual o conceito de vacância não se aplica.\n",
    "\n",
    "Esses valores serão preenchidos com zeros:"
   ]
  },
  {
   "cell_type": "code",
   "execution_count": 17,
   "metadata": {
    "ExecuteTime": {
     "end_time": "2021-07-30T16:38:11.148562Z",
     "start_time": "2021-07-30T16:38:11.095704Z"
    }
   },
   "outputs": [
    {
     "data": {
      "text/html": [
       "<div>\n",
       "<style scoped>\n",
       "    .dataframe tbody tr th:only-of-type {\n",
       "        vertical-align: middle;\n",
       "    }\n",
       "\n",
       "    .dataframe tbody tr th {\n",
       "        vertical-align: top;\n",
       "    }\n",
       "\n",
       "    .dataframe thead th {\n",
       "        text-align: right;\n",
       "    }\n",
       "</style>\n",
       "<table border=\"1\" class=\"dataframe\">\n",
       "  <thead>\n",
       "    <tr style=\"text-align: right;\">\n",
       "      <th></th>\n",
       "      <th>ticker</th>\n",
       "      <th>nome</th>\n",
       "      <th>tipo_gestao</th>\n",
       "      <th>setor</th>\n",
       "      <th>menos_5_anos</th>\n",
       "      <th>preço</th>\n",
       "      <th>dy</th>\n",
       "      <th>pct_caixa</th>\n",
       "      <th>num_cotistas</th>\n",
       "      <th>PL</th>\n",
       "      <th>...</th>\n",
       "      <th>dy_3m_avg</th>\n",
       "      <th>dy_6m_avg</th>\n",
       "      <th>dy_12m_avg</th>\n",
       "      <th>dy_ano</th>\n",
       "      <th>var_preço</th>\n",
       "      <th>rent_periodo</th>\n",
       "      <th>rent_acc</th>\n",
       "      <th>VPA</th>\n",
       "      <th>vacancia_fisica</th>\n",
       "      <th>qtd_ativos</th>\n",
       "    </tr>\n",
       "  </thead>\n",
       "  <tbody>\n",
       "    <tr>\n",
       "      <th>0</th>\n",
       "      <td>BRLA11</td>\n",
       "      <td>FUNDO DE INVESTIMENTO IMOBILIÁRIO BRL PROP II</td>\n",
       "      <td>Passiva</td>\n",
       "      <td>Híbrido</td>\n",
       "      <td>True</td>\n",
       "      <td>0.00</td>\n",
       "      <td>0.0000</td>\n",
       "      <td>0.7435</td>\n",
       "      <td>84.0</td>\n",
       "      <td>1.376312e+08</td>\n",
       "      <td>...</td>\n",
       "      <td>0.00</td>\n",
       "      <td>0.00</td>\n",
       "      <td>0.00</td>\n",
       "      <td>NaN</td>\n",
       "      <td>0.00</td>\n",
       "      <td>0.00</td>\n",
       "      <td>0.00</td>\n",
       "      <td>140.98</td>\n",
       "      <td>NaN</td>\n",
       "      <td>0.0</td>\n",
       "    </tr>\n",
       "    <tr>\n",
       "      <th>8</th>\n",
       "      <td>BICR11</td>\n",
       "      <td>INTER TÍTULOS IMOB. FDO INV. IMOB.</td>\n",
       "      <td>Ativa</td>\n",
       "      <td>Títulos e Val. Mob.</td>\n",
       "      <td>True</td>\n",
       "      <td>96.00</td>\n",
       "      <td>3.2083</td>\n",
       "      <td>9.6076</td>\n",
       "      <td>602.0</td>\n",
       "      <td>4.953674e+07</td>\n",
       "      <td>...</td>\n",
       "      <td>0.34</td>\n",
       "      <td>0.30</td>\n",
       "      <td>0.26</td>\n",
       "      <td>1.78</td>\n",
       "      <td>-0.94</td>\n",
       "      <td>-0.62</td>\n",
       "      <td>-4.55</td>\n",
       "      <td>99.07</td>\n",
       "      <td>NaN</td>\n",
       "      <td>0.0</td>\n",
       "    </tr>\n",
       "    <tr>\n",
       "      <th>11</th>\n",
       "      <td>BTAL11</td>\n",
       "      <td>BTG PACTUAL AGRO LOGÍSTICA</td>\n",
       "      <td>Ativa</td>\n",
       "      <td>Outros</td>\n",
       "      <td>True</td>\n",
       "      <td>98.28</td>\n",
       "      <td>2.2549</td>\n",
       "      <td>33.8504</td>\n",
       "      <td>10544.0</td>\n",
       "      <td>6.132124e+08</td>\n",
       "      <td>...</td>\n",
       "      <td>0.56</td>\n",
       "      <td>0.00</td>\n",
       "      <td>0.00</td>\n",
       "      <td>2.02</td>\n",
       "      <td>-0.28</td>\n",
       "      <td>0.38</td>\n",
       "      <td>-1.13</td>\n",
       "      <td>100.55</td>\n",
       "      <td>NaN</td>\n",
       "      <td>7.0</td>\n",
       "    </tr>\n",
       "    <tr>\n",
       "      <th>12</th>\n",
       "      <td>BTCR11</td>\n",
       "      <td>BTG Pactual Crédito Imobiliário</td>\n",
       "      <td>Ativa</td>\n",
       "      <td>Títulos e Val. Mob.</td>\n",
       "      <td>False</td>\n",
       "      <td>93.97</td>\n",
       "      <td>6.8445</td>\n",
       "      <td>5.6180</td>\n",
       "      <td>9427.0</td>\n",
       "      <td>4.681521e+08</td>\n",
       "      <td>...</td>\n",
       "      <td>0.74</td>\n",
       "      <td>0.71</td>\n",
       "      <td>0.60</td>\n",
       "      <td>4.24</td>\n",
       "      <td>0.83</td>\n",
       "      <td>1.61</td>\n",
       "      <td>10.18</td>\n",
       "      <td>97.33</td>\n",
       "      <td>NaN</td>\n",
       "      <td>0.0</td>\n",
       "    </tr>\n",
       "    <tr>\n",
       "      <th>19</th>\n",
       "      <td>BZLI11</td>\n",
       "      <td>Brazil Realty</td>\n",
       "      <td>Ativa</td>\n",
       "      <td>Títulos e Val. Mob.</td>\n",
       "      <td>False</td>\n",
       "      <td>14.58</td>\n",
       "      <td>0.0000</td>\n",
       "      <td>2.7259</td>\n",
       "      <td>30.0</td>\n",
       "      <td>4.449849e+08</td>\n",
       "      <td>...</td>\n",
       "      <td>0.00</td>\n",
       "      <td>0.00</td>\n",
       "      <td>0.00</td>\n",
       "      <td>0.00</td>\n",
       "      <td>0.68</td>\n",
       "      <td>0.68</td>\n",
       "      <td>1.14</td>\n",
       "      <td>11.37</td>\n",
       "      <td>NaN</td>\n",
       "      <td>0.0</td>\n",
       "    </tr>\n",
       "  </tbody>\n",
       "</table>\n",
       "<p>5 rows × 30 columns</p>\n",
       "</div>"
      ],
      "text/plain": [
       "    ticker                                           nome tipo_gestao  \\\n",
       "0   BRLA11  FUNDO DE INVESTIMENTO IMOBILIÁRIO BRL PROP II     Passiva   \n",
       "8   BICR11             INTER TÍTULOS IMOB. FDO INV. IMOB.       Ativa   \n",
       "11  BTAL11                     BTG PACTUAL AGRO LOGÍSTICA       Ativa   \n",
       "12  BTCR11                BTG Pactual Crédito Imobiliário       Ativa   \n",
       "19  BZLI11                                  Brazil Realty       Ativa   \n",
       "\n",
       "                  setor  menos_5_anos  preço      dy  pct_caixa  num_cotistas  \\\n",
       "0               Híbrido          True   0.00  0.0000     0.7435          84.0   \n",
       "8   Títulos e Val. Mob.          True  96.00  3.2083     9.6076         602.0   \n",
       "11               Outros          True  98.28  2.2549    33.8504       10544.0   \n",
       "12  Títulos e Val. Mob.         False  93.97  6.8445     5.6180        9427.0   \n",
       "19  Títulos e Val. Mob.         False  14.58  0.0000     2.7259          30.0   \n",
       "\n",
       "              PL  ...  dy_3m_avg  dy_6m_avg  dy_12m_avg  dy_ano  var_preço  \\\n",
       "0   1.376312e+08  ...       0.00       0.00        0.00     NaN       0.00   \n",
       "8   4.953674e+07  ...       0.34       0.30        0.26    1.78      -0.94   \n",
       "11  6.132124e+08  ...       0.56       0.00        0.00    2.02      -0.28   \n",
       "12  4.681521e+08  ...       0.74       0.71        0.60    4.24       0.83   \n",
       "19  4.449849e+08  ...       0.00       0.00        0.00    0.00       0.68   \n",
       "\n",
       "    rent_periodo  rent_acc     VPA  vacancia_fisica  qtd_ativos  \n",
       "0           0.00      0.00  140.98              NaN         0.0  \n",
       "8          -0.62     -4.55   99.07              NaN         0.0  \n",
       "11          0.38     -1.13  100.55              NaN         7.0  \n",
       "12          1.61     10.18   97.33              NaN         0.0  \n",
       "19          0.68      1.14   11.37              NaN         0.0  \n",
       "\n",
       "[5 rows x 30 columns]"
      ]
     },
     "execution_count": 17,
     "metadata": {},
     "output_type": "execute_result"
    }
   ],
   "source": [
    "df[df['vacancia_fisica'].isna()].head()"
   ]
  },
  {
   "cell_type": "code",
   "execution_count": 18,
   "metadata": {
    "ExecuteTime": {
     "end_time": "2021-07-30T16:38:11.179480Z",
     "start_time": "2021-07-30T16:38:11.152558Z"
    }
   },
   "outputs": [
    {
     "data": {
      "text/html": [
       "<div>\n",
       "<style scoped>\n",
       "    .dataframe tbody tr th:only-of-type {\n",
       "        vertical-align: middle;\n",
       "    }\n",
       "\n",
       "    .dataframe tbody tr th {\n",
       "        vertical-align: top;\n",
       "    }\n",
       "\n",
       "    .dataframe thead th {\n",
       "        text-align: right;\n",
       "    }\n",
       "</style>\n",
       "<table border=\"1\" class=\"dataframe\">\n",
       "  <thead>\n",
       "    <tr style=\"text-align: right;\">\n",
       "      <th></th>\n",
       "      <th>ticker</th>\n",
       "    </tr>\n",
       "    <tr>\n",
       "      <th>setor</th>\n",
       "      <th></th>\n",
       "    </tr>\n",
       "  </thead>\n",
       "  <tbody>\n",
       "    <tr>\n",
       "      <th>Hospital</th>\n",
       "      <td>1</td>\n",
       "    </tr>\n",
       "    <tr>\n",
       "      <th>Hotel</th>\n",
       "      <td>1</td>\n",
       "    </tr>\n",
       "    <tr>\n",
       "      <th>Híbrido</th>\n",
       "      <td>20</td>\n",
       "    </tr>\n",
       "    <tr>\n",
       "      <th>Lajes Corporativas</th>\n",
       "      <td>2</td>\n",
       "    </tr>\n",
       "    <tr>\n",
       "      <th>Logística</th>\n",
       "      <td>1</td>\n",
       "    </tr>\n",
       "    <tr>\n",
       "      <th>Outros</th>\n",
       "      <td>21</td>\n",
       "    </tr>\n",
       "    <tr>\n",
       "      <th>Residencial</th>\n",
       "      <td>5</td>\n",
       "    </tr>\n",
       "    <tr>\n",
       "      <th>Títulos e Val. Mob.</th>\n",
       "      <td>75</td>\n",
       "    </tr>\n",
       "  </tbody>\n",
       "</table>\n",
       "</div>"
      ],
      "text/plain": [
       "                     ticker\n",
       "setor                      \n",
       "Hospital                  1\n",
       "Hotel                     1\n",
       "Híbrido                  20\n",
       "Lajes Corporativas        2\n",
       "Logística                 1\n",
       "Outros                   21\n",
       "Residencial               5\n",
       "Títulos e Val. Mob.      75"
      ]
     },
     "execution_count": 18,
     "metadata": {},
     "output_type": "execute_result"
    }
   ],
   "source": [
    "df.loc[df['vacancia_fisica'].isna(),['ticker', 'setor']].groupby('setor').count()"
   ]
  },
  {
   "cell_type": "code",
   "execution_count": 19,
   "metadata": {
    "ExecuteTime": {
     "end_time": "2021-07-30T16:38:11.194442Z",
     "start_time": "2021-07-30T16:38:11.182473Z"
    }
   },
   "outputs": [],
   "source": [
    "df.loc[:,'vacancia_fisica'] = df['vacancia_fisica'].fillna(value = 0)"
   ]
  },
  {
   "cell_type": "code",
   "execution_count": 20,
   "metadata": {
    "ExecuteTime": {
     "end_time": "2021-07-30T16:38:11.210397Z",
     "start_time": "2021-07-30T16:38:11.197432Z"
    }
   },
   "outputs": [
    {
     "data": {
      "text/plain": [
       "ticker                  0\n",
       "nome                    0\n",
       "tipo_gestao             0\n",
       "setor                   0\n",
       "menos_5_anos            0\n",
       "preço                   0\n",
       "dy                      0\n",
       "pct_caixa               2\n",
       "num_cotistas            0\n",
       "PL                      0\n",
       "PVPA                    5\n",
       "liquidez_diaria_avg     6\n",
       "cagr_dividendo          0\n",
       "cagr_cota               0\n",
       "liquidez_diaria         7\n",
       "div_mes_brl             0\n",
       "dy_1m                  12\n",
       "dy_3m_acc              12\n",
       "dy_6m_acc              12\n",
       "dy_12m_acc             12\n",
       "dy_3m_avg              12\n",
       "dy_6m_avg              12\n",
       "dy_12m_avg             12\n",
       "dy_ano                 24\n",
       "var_preço              12\n",
       "rent_periodo           12\n",
       "rent_acc               12\n",
       "VPA                     0\n",
       "vacancia_fisica         0\n",
       "qtd_ativos              0\n",
       "dtype: int64"
      ]
     },
     "execution_count": 20,
     "metadata": {},
     "output_type": "execute_result"
    }
   ],
   "source": [
    "df.isna().sum()"
   ]
  },
  {
   "cell_type": "markdown",
   "metadata": {
    "ExecuteTime": {
     "end_time": "2021-07-30T15:55:15.331872Z",
     "start_time": "2021-07-30T15:55:15.295969Z"
    }
   },
   "source": [
    "Existem 5 observações de PVPA (Preço dividido por Valor Patrimonial) ausentes. Em geral são fundos pequenos, com baixa liquidez que serão removidos da análise."
   ]
  },
  {
   "cell_type": "code",
   "execution_count": 21,
   "metadata": {
    "ExecuteTime": {
     "end_time": "2021-07-30T16:38:11.242312Z",
     "start_time": "2021-07-30T16:38:11.213390Z"
    }
   },
   "outputs": [
    {
     "data": {
      "text/html": [
       "<div>\n",
       "<style scoped>\n",
       "    .dataframe tbody tr th:only-of-type {\n",
       "        vertical-align: middle;\n",
       "    }\n",
       "\n",
       "    .dataframe tbody tr th {\n",
       "        vertical-align: top;\n",
       "    }\n",
       "\n",
       "    .dataframe thead th {\n",
       "        text-align: right;\n",
       "    }\n",
       "</style>\n",
       "<table border=\"1\" class=\"dataframe\">\n",
       "  <thead>\n",
       "    <tr style=\"text-align: right;\">\n",
       "      <th></th>\n",
       "      <th>ticker</th>\n",
       "      <th>preço</th>\n",
       "      <th>PL</th>\n",
       "      <th>liquidez_diaria_avg</th>\n",
       "      <th>liquidez_diaria</th>\n",
       "    </tr>\n",
       "  </thead>\n",
       "  <tbody>\n",
       "    <tr>\n",
       "      <th>0</th>\n",
       "      <td>BRLA11</td>\n",
       "      <td>0.00</td>\n",
       "      <td>1.376312e+08</td>\n",
       "      <td>NaN</td>\n",
       "      <td>NaN</td>\n",
       "    </tr>\n",
       "    <tr>\n",
       "      <th>84</th>\n",
       "      <td>PABY11</td>\n",
       "      <td>12.58</td>\n",
       "      <td>-6.281734e+06</td>\n",
       "      <td>3090.38</td>\n",
       "      <td>54.0</td>\n",
       "    </tr>\n",
       "    <tr>\n",
       "      <th>112</th>\n",
       "      <td>SPVJ11</td>\n",
       "      <td>0.00</td>\n",
       "      <td>5.302450e+08</td>\n",
       "      <td>NaN</td>\n",
       "      <td>NaN</td>\n",
       "    </tr>\n",
       "    <tr>\n",
       "      <th>140</th>\n",
       "      <td>BBIM11</td>\n",
       "      <td>0.00</td>\n",
       "      <td>6.462463e+07</td>\n",
       "      <td>NaN</td>\n",
       "      <td>NaN</td>\n",
       "    </tr>\n",
       "    <tr>\n",
       "      <th>274</th>\n",
       "      <td>RBCB11</td>\n",
       "      <td>19.00</td>\n",
       "      <td>0.000000e+00</td>\n",
       "      <td>NaN</td>\n",
       "      <td>161.0</td>\n",
       "    </tr>\n",
       "  </tbody>\n",
       "</table>\n",
       "</div>"
      ],
      "text/plain": [
       "     ticker  preço            PL  liquidez_diaria_avg  liquidez_diaria\n",
       "0    BRLA11   0.00  1.376312e+08                  NaN              NaN\n",
       "84   PABY11  12.58 -6.281734e+06              3090.38             54.0\n",
       "112  SPVJ11   0.00  5.302450e+08                  NaN              NaN\n",
       "140  BBIM11   0.00  6.462463e+07                  NaN              NaN\n",
       "274  RBCB11  19.00  0.000000e+00                  NaN            161.0"
      ]
     },
     "execution_count": 21,
     "metadata": {},
     "output_type": "execute_result"
    }
   ],
   "source": [
    "df.loc[df['PVPA'].isna(), ['ticker', 'preço', 'PL', 'liquidez_diaria_avg', 'liquidez_diaria']]"
   ]
  },
  {
   "cell_type": "code",
   "execution_count": 22,
   "metadata": {
    "ExecuteTime": {
     "end_time": "2021-07-30T16:38:11.273228Z",
     "start_time": "2021-07-30T16:38:11.253284Z"
    }
   },
   "outputs": [],
   "source": [
    "df.dropna(subset = ['PVPA'], axis = 0, inplace = True)"
   ]
  },
  {
   "cell_type": "code",
   "execution_count": 23,
   "metadata": {
    "ExecuteTime": {
     "end_time": "2021-07-30T16:38:11.289188Z",
     "start_time": "2021-07-30T16:38:11.278215Z"
    }
   },
   "outputs": [
    {
     "data": {
      "text/plain": [
       "ticker                  0\n",
       "nome                    0\n",
       "tipo_gestao             0\n",
       "setor                   0\n",
       "menos_5_anos            0\n",
       "preço                   0\n",
       "dy                      0\n",
       "pct_caixa               0\n",
       "num_cotistas            0\n",
       "PL                      0\n",
       "PVPA                    0\n",
       "liquidez_diaria_avg     2\n",
       "cagr_dividendo          0\n",
       "cagr_cota               0\n",
       "liquidez_diaria         4\n",
       "div_mes_brl             0\n",
       "dy_1m                  12\n",
       "dy_3m_acc              12\n",
       "dy_6m_acc              12\n",
       "dy_12m_acc             12\n",
       "dy_3m_avg              12\n",
       "dy_6m_avg              12\n",
       "dy_12m_avg             12\n",
       "dy_ano                 21\n",
       "var_preço              12\n",
       "rent_periodo           12\n",
       "rent_acc               12\n",
       "VPA                     0\n",
       "vacancia_fisica         0\n",
       "qtd_ativos              0\n",
       "dtype: int64"
      ]
     },
     "execution_count": 23,
     "metadata": {},
     "output_type": "execute_result"
    }
   ],
   "source": [
    "df.isna().sum()"
   ]
  },
  {
   "cell_type": "markdown",
   "metadata": {},
   "source": [
    "As demais variáveis sem dados terão seus valores definidos como zeros."
   ]
  },
  {
   "cell_type": "code",
   "execution_count": 25,
   "metadata": {
    "ExecuteTime": {
     "end_time": "2021-07-30T16:40:53.540498Z",
     "start_time": "2021-07-30T16:40:53.517526Z"
    }
   },
   "outputs": [
    {
     "data": {
      "text/plain": [
       "ticker                 0\n",
       "nome                   0\n",
       "tipo_gestao            0\n",
       "setor                  0\n",
       "menos_5_anos           0\n",
       "preço                  0\n",
       "dy                     0\n",
       "pct_caixa              0\n",
       "num_cotistas           0\n",
       "PL                     0\n",
       "PVPA                   0\n",
       "liquidez_diaria_avg    0\n",
       "cagr_dividendo         0\n",
       "cagr_cota              0\n",
       "liquidez_diaria        0\n",
       "div_mes_brl            0\n",
       "dy_1m                  0\n",
       "dy_3m_acc              0\n",
       "dy_6m_acc              0\n",
       "dy_12m_acc             0\n",
       "dy_3m_avg              0\n",
       "dy_6m_avg              0\n",
       "dy_12m_avg             0\n",
       "dy_ano                 0\n",
       "var_preço              0\n",
       "rent_periodo           0\n",
       "rent_acc               0\n",
       "VPA                    0\n",
       "vacancia_fisica        0\n",
       "qtd_ativos             0\n",
       "dtype: int64"
      ]
     },
     "execution_count": 25,
     "metadata": {},
     "output_type": "execute_result"
    }
   ],
   "source": [
    "df.fillna(value = 0, inplace = True)\n",
    "df.isna().sum()"
   ]
  },
  {
   "cell_type": "code",
   "execution_count": 26,
   "metadata": {
    "ExecuteTime": {
     "end_time": "2021-07-30T16:41:34.050298Z",
     "start_time": "2021-07-30T16:41:34.034341Z"
    }
   },
   "outputs": [
    {
     "name": "stdout",
     "output_type": "stream",
     "text": [
      "<class 'pandas.core.frame.DataFrame'>\n",
      "Int64Index: 239 entries, 4 to 353\n",
      "Data columns (total 30 columns):\n",
      " #   Column               Non-Null Count  Dtype  \n",
      "---  ------               --------------  -----  \n",
      " 0   ticker               239 non-null    object \n",
      " 1   nome                 239 non-null    object \n",
      " 2   tipo_gestao          239 non-null    object \n",
      " 3   setor                239 non-null    object \n",
      " 4   menos_5_anos         239 non-null    bool   \n",
      " 5   preço                239 non-null    float64\n",
      " 6   dy                   239 non-null    float64\n",
      " 7   pct_caixa            239 non-null    float64\n",
      " 8   num_cotistas         239 non-null    float64\n",
      " 9   PL                   239 non-null    float64\n",
      " 10  PVPA                 239 non-null    float64\n",
      " 11  liquidez_diaria_avg  239 non-null    float64\n",
      " 12  cagr_dividendo       239 non-null    float64\n",
      " 13  cagr_cota            239 non-null    float64\n",
      " 14  liquidez_diaria      239 non-null    float64\n",
      " 15  div_mes_brl          239 non-null    float64\n",
      " 16  dy_1m                239 non-null    float64\n",
      " 17  dy_3m_acc            239 non-null    float64\n",
      " 18  dy_6m_acc            239 non-null    float64\n",
      " 19  dy_12m_acc           239 non-null    float64\n",
      " 20  dy_3m_avg            239 non-null    float64\n",
      " 21  dy_6m_avg            239 non-null    float64\n",
      " 22  dy_12m_avg           239 non-null    float64\n",
      " 23  dy_ano               239 non-null    float64\n",
      " 24  var_preço            239 non-null    float64\n",
      " 25  rent_periodo         239 non-null    float64\n",
      " 26  rent_acc             239 non-null    float64\n",
      " 27  VPA                  239 non-null    float64\n",
      " 28  vacancia_fisica      239 non-null    float64\n",
      " 29  qtd_ativos           239 non-null    float64\n",
      "dtypes: bool(1), float64(25), object(4)\n",
      "memory usage: 56.2+ KB\n"
     ]
    }
   ],
   "source": [
    "df.info()"
   ]
  },
  {
   "cell_type": "markdown",
   "metadata": {},
   "source": [
    "Dessa forma, é finalizado o tratamento de dados faltantes.\n",
    "\n",
    "O Dataframe resultante possui **239 observações com 29 variáveis**.\n",
    "\n",
    "Uma cópia desse dataframe será salva na pasta de dados para poder ser utilizada em outras análises."
   ]
  },
  {
   "cell_type": "code",
   "execution_count": 27,
   "metadata": {
    "ExecuteTime": {
     "end_time": "2021-07-30T16:44:15.312158Z",
     "start_time": "2021-07-30T16:44:15.281238Z"
    }
   },
   "outputs": [],
   "source": [
    "df.to_csv(\"data/dados_FIIs_processados.csv\")"
   ]
  },
  {
   "cell_type": "code",
   "execution_count": null,
   "metadata": {},
   "outputs": [],
   "source": []
  }
 ],
 "metadata": {
  "kernelspec": {
   "display_name": "Python 3",
   "language": "python",
   "name": "python3"
  },
  "language_info": {
   "codemirror_mode": {
    "name": "ipython",
    "version": 3
   },
   "file_extension": ".py",
   "mimetype": "text/x-python",
   "name": "python",
   "nbconvert_exporter": "python",
   "pygments_lexer": "ipython3",
   "version": "3.8.5"
  },
  "varInspector": {
   "cols": {
    "lenName": 16,
    "lenType": 16,
    "lenVar": 40
   },
   "kernels_config": {
    "python": {
     "delete_cmd_postfix": "",
     "delete_cmd_prefix": "del ",
     "library": "var_list.py",
     "varRefreshCmd": "print(var_dic_list())"
    },
    "r": {
     "delete_cmd_postfix": ") ",
     "delete_cmd_prefix": "rm(",
     "library": "var_list.r",
     "varRefreshCmd": "cat(var_dic_list()) "
    }
   },
   "types_to_exclude": [
    "module",
    "function",
    "builtin_function_or_method",
    "instance",
    "_Feature"
   ],
   "window_display": false
  }
 },
 "nbformat": 4,
 "nbformat_minor": 4
}
